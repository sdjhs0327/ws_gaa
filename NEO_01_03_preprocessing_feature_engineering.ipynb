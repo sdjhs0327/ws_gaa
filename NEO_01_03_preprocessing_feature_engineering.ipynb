{
 "cells": [
  {
   "cell_type": "code",
   "execution_count": 1,
   "id": "c7ed7729",
   "metadata": {
    "ExecuteTime": {
     "end_time": "2022-03-25T10:25:56.332276Z",
     "start_time": "2022-03-25T10:25:55.808858Z"
    }
   },
   "outputs": [],
   "source": [
    "import pandas as pd\n",
    "import warnings\n",
    "warnings.filterwarnings('ignore')\n",
    "import numpy as np\n",
    "import math\n",
    "import datetime as dt"
   ]
  },
  {
   "cell_type": "code",
   "execution_count": 2,
   "id": "f8bf920e",
   "metadata": {
    "ExecuteTime": {
     "end_time": "2022-03-25T10:25:57.562739Z",
     "start_time": "2022-03-25T10:25:56.348333Z"
    }
   },
   "outputs": [],
   "source": [
    "import matplotlib.pyplot as plt\n",
    "import seaborn as sns\n",
    "\n",
    "plt.rcParams[\"figure.figsize\"] = (7,5)"
   ]
  },
  {
   "cell_type": "code",
   "execution_count": 3,
   "id": "02dd520e",
   "metadata": {
    "ExecuteTime": {
     "end_time": "2022-03-25T10:25:57.742779Z",
     "start_time": "2022-03-25T10:25:57.578741Z"
    }
   },
   "outputs": [],
   "source": [
    "from statsmodels.stats.outliers_influence import variance_inflation_factor"
   ]
  },
  {
   "cell_type": "markdown",
   "id": "c70b8129",
   "metadata": {},
   "source": [
    "## Funcs"
   ]
  },
  {
   "cell_type": "code",
   "execution_count": 4,
   "id": "209cc786",
   "metadata": {
    "ExecuteTime": {
     "end_time": "2022-03-25T10:25:57.832799Z",
     "start_time": "2022-03-25T10:25:57.819799Z"
    }
   },
   "outputs": [],
   "source": [
    "## 극단값 보정 # 윈저라이징 #3std\n",
    "def clean_outlier(srs, n = 3):\n",
    "    srs = srs.copy()\n",
    "    ut = srs.mean() + n*srs.std()\n",
    "    lt = srs.mean() - n*srs.std()\n",
    "    srs[(srs > ut)] = ut\n",
    "    srs[(srs < lt)] = lt\n",
    "    return srs"
   ]
  },
  {
   "cell_type": "markdown",
   "id": "a3657da1",
   "metadata": {},
   "source": [
    "## Data"
   ]
  },
  {
   "cell_type": "code",
   "execution_count": 5,
   "id": "76453b01",
   "metadata": {
    "ExecuteTime": {
     "end_time": "2022-03-25T10:25:58.952683Z",
     "start_time": "2022-03-25T10:25:58.919675Z"
    }
   },
   "outputs": [],
   "source": [
    "macro = pd.read_csv('data/macro_encoded_sav.csv', index_col=0)\n",
    "## macro = pd.read_csv('data/macro.csv', index_col=0)\n",
    "macro.index = pd.to_datetime(macro.index).dropna()\n",
    "\n",
    "assets = pd.read_csv('data/assets_encoded_sav.csv', index_col=0)\n",
    "## assets = pd.read_csv('data/assets.csv', index_col=0)\n",
    "assets.index = pd.to_datetime(assets.index).dropna()"
   ]
  },
  {
   "cell_type": "code",
   "execution_count": 6,
   "id": "51b578b9",
   "metadata": {
    "ExecuteTime": {
     "end_time": "2022-03-25T10:25:59.561258Z",
     "start_time": "2022-03-25T10:25:59.552265Z"
    }
   },
   "outputs": [],
   "source": [
    "asss = ['SPY', 'QQQ', 'VEA', 'VWO', 'TLT', 'IEF', 'SHY', 'IAU']\n",
    "assets = assets[asss]"
   ]
  },
  {
   "cell_type": "markdown",
   "id": "91182a5c",
   "metadata": {},
   "source": [
    "### 변수선택"
   ]
  },
  {
   "cell_type": "code",
   "execution_count": 7,
   "id": "0e655638",
   "metadata": {
    "ExecuteTime": {
     "end_time": "2022-03-25T10:26:00.928143Z",
     "start_time": "2022-03-25T10:26:00.656093Z"
    }
   },
   "outputs": [],
   "source": [
    "## 분석 대상 데이터 ## 선행성\n",
    "dataset = macro.dropna().shift(1).dropna()\n",
    "## 이상값 제거\n",
    "dataset_v2 = dataset.dropna()\n",
    "for mac in dataset_v2.columns:\n",
    "    dataset_v2[mac] = clean_outlier(dataset_v2[mac], n = 2)\n",
    "\n",
    "## 활용설명변수\n",
    "dataset_v3 = dataset_v2.dropna()\n",
    "X_ = dataset_v3[['VIX', 'DG10', 'DG2', 'SPPE']]\n",
    "## 수익률\n",
    "df_rets = assets.dropna()\n",
    "## 자산별 12-1M\n",
    "df121M = assets.rolling(12).sum().shift(1).dropna()\n",
    "df121M.columns = df121M.columns + '12-1M'\n",
    "\n",
    "\n",
    "## 타겟자산과 다른자산(-1) 상관계수\n",
    "df_ls = []\n",
    "for col in df_rets.columns:\n",
    "    assets_ = list(df_rets.columns)\n",
    "    assets_.remove(col)\n",
    "    temp = df_rets[assets_].shift(1)\n",
    "    temp[col] = df_rets[col]\n",
    "    temp_corr = temp.corr()[col]\n",
    "    df_ls.append(temp)\n",
    "\n",
    "## 후보 변수 결합\n",
    "df_ls2 = []\n",
    "for i in range(len(df_ls)):\n",
    "    temp = pd.concat([X_, df121M, df_ls[i]], axis=1).dropna()\n",
    "    df_ls2.append(temp)\n",
    "    \n",
    "## 상관계수 0.1이상 변수만 남김\n",
    "df_ls3 = []\n",
    "for i in range(len(df_ls2)):\n",
    "    df = df_ls2[i]\n",
    "    temp_corr = df.corr()[df.columns[-1]] \n",
    "    df_ls3.append(df[temp_corr[abs(temp_corr) >= .25].index])\n",
    "    \n",
    "## vif 10이하 변수만 남김\n",
    "df_ls4 = []\n",
    "for i in range(len(df_ls3)):\n",
    "    df = df_ls3[i]\n",
    "    X = df[df.columns[:-1]] \n",
    "    vif = pd.DataFrame()\n",
    "    vif[\"features\"] = X.columns\n",
    "    vif[\"VIF\"] = [variance_inflation_factor(X.values, i) for i in range(X.shape[1])]\n",
    "\n",
    "    temp = df[vif['features'][vif['VIF'] < 10]]\n",
    "    temp[df.columns[-1]] = df[df.columns[-1]]\n",
    "    df_ls4.append(temp)"
   ]
  },
  {
   "cell_type": "markdown",
   "id": "960c667e",
   "metadata": {},
   "source": [
    "### Set 구성"
   ]
  },
  {
   "cell_type": "code",
   "execution_count": 8,
   "id": "3384436b",
   "metadata": {
    "ExecuteTime": {
     "end_time": "2022-03-25T10:26:02.088761Z",
     "start_time": "2022-03-25T10:26:01.984722Z"
    }
   },
   "outputs": [],
   "source": [
    "## 모델링 대상 데이터 lag없음\n",
    "dataset = macro.dropna().dropna()\n",
    "## 이상값 제거\n",
    "dataset_v2 = dataset.dropna()\n",
    "for mac in dataset_v2.columns:\n",
    "    dataset_v2[mac] = clean_outlier(dataset_v2[mac], n = 2)\n",
    "\n",
    "## 활용설명변수\n",
    "dataset_v3 = dataset_v2.dropna()\n",
    "X_ = dataset_v3[['VIX', 'DG10', 'DG2', 'SPPE']]\n",
    "## 수익률\n",
    "df_rets = assets.dropna()\n",
    "## 자산별 12-1M\n",
    "df121M = assets.rolling(12).sum().shift(1).dropna()\n",
    "df121M.columns = df121M.columns + '12-1M'\n",
    "\n",
    "df_ = []\n",
    "for col in df_rets.columns:\n",
    "    assets_ = list(df_rets.columns)\n",
    "    assets_.remove(col)\n",
    "    temp = df_rets[assets_]\n",
    "    temp[col] = df_rets[col]\n",
    "    temp_corr = temp.corr()[col]\n",
    "    df_.append(temp)\n",
    "\n",
    "## 후보 변수 결합\n",
    "dfs = []\n",
    "for i in range(len(df_ls4)):\n",
    "    temp = pd.concat([X_, df121M, df_[i]], axis=1).dropna()\n",
    "    temp = temp[df_ls4[i].columns]\n",
    "    dfs.append(temp)"
   ]
  },
  {
   "cell_type": "code",
   "execution_count": 9,
   "id": "d3f62f15",
   "metadata": {
    "ExecuteTime": {
     "end_time": "2022-03-25T10:26:02.749654Z",
     "start_time": "2022-03-25T10:26:02.736651Z"
    }
   },
   "outputs": [],
   "source": [
    "df_SPY, df_QQQ, df_VEA, df_VWO, df_TLT, df_IEF, df_SHY, df_IAU = dfs"
   ]
  },
  {
   "cell_type": "code",
   "execution_count": 10,
   "id": "07e9d537",
   "metadata": {
    "ExecuteTime": {
     "end_time": "2022-03-25T10:26:03.515097Z",
     "start_time": "2022-03-25T10:26:03.457085Z"
    }
   },
   "outputs": [],
   "source": [
    "df_SPY.to_csv('data/engineered/edf_SPY.csv')\n",
    "df_QQQ.to_csv('data/engineered/edf_QQQ.csv')\n",
    "df_VEA.to_csv('data/engineered/edf_VEA.csv')\n",
    "df_VWO.to_csv('data/engineered/edf_VWO.csv')\n",
    "df_TLT.to_csv('data/engineered/edf_TLT.csv')\n",
    "df_IEF.to_csv('data/engineered/edf_IEF.csv')\n",
    "df_SHY.to_csv('data/engineered/edf_SHY.csv')\n",
    "df_IAU.to_csv('data/engineered/edf_IAU.csv')\n",
    "## df_XLF.to_csv('data/edf_XLF.csv')"
   ]
  },
  {
   "cell_type": "code",
   "execution_count": null,
   "id": "6eee11c3",
   "metadata": {},
   "outputs": [],
   "source": []
  }
 ],
 "metadata": {
  "hide_input": false,
  "kernelspec": {
   "display_name": "Python 3 (ipykernel)",
   "language": "python",
   "name": "python3"
  },
  "language_info": {
   "codemirror_mode": {
    "name": "ipython",
    "version": 3
   },
   "file_extension": ".py",
   "mimetype": "text/x-python",
   "name": "python",
   "nbconvert_exporter": "python",
   "pygments_lexer": "ipython3",
   "version": "3.9.7"
  },
  "toc": {
   "base_numbering": 1,
   "nav_menu": {},
   "number_sections": true,
   "sideBar": true,
   "skip_h1_title": false,
   "title_cell": "Table of Contents",
   "title_sidebar": "Contents",
   "toc_cell": false,
   "toc_position": {},
   "toc_section_display": true,
   "toc_window_display": false
  },
  "varInspector": {
   "cols": {
    "lenName": 16,
    "lenType": 16,
    "lenVar": 40
   },
   "kernels_config": {
    "python": {
     "delete_cmd_postfix": "",
     "delete_cmd_prefix": "del ",
     "library": "var_list.py",
     "varRefreshCmd": "print(var_dic_list())"
    },
    "r": {
     "delete_cmd_postfix": ") ",
     "delete_cmd_prefix": "rm(",
     "library": "var_list.r",
     "varRefreshCmd": "cat(var_dic_list()) "
    }
   },
   "types_to_exclude": [
    "module",
    "function",
    "builtin_function_or_method",
    "instance",
    "_Feature"
   ],
   "window_display": false
  }
 },
 "nbformat": 4,
 "nbformat_minor": 5
}
